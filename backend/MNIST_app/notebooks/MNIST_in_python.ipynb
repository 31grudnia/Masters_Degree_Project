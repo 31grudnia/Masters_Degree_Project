{
 "cells": [
  {
   "cell_type": "markdown",
   "id": "a5ce3d32-9f37-4c85-8fe9-d818a8e52234",
   "metadata": {},
   "source": [
    "<h3>  Imports </h3>"
   ]
  },
  {
   "cell_type": "code",
   "execution_count": 6,
   "id": "f32fe2ec-3166-4ff0-9d23-130da839b213",
   "metadata": {},
   "outputs": [],
   "source": [
    "import numpy as np\n",
    "import math\n",
    "import matplotlib.cm as cm \n",
    "import matplotlib.pyplot as plt"
   ]
  },
  {
   "cell_type": "markdown",
   "id": "37c63630",
   "metadata": {},
   "source": [
    "# Fetching datasets "
   ]
  },
  {
   "cell_type": "code",
   "execution_count": 12,
   "id": "2a238b73",
   "metadata": {},
   "outputs": [],
   "source": [
    "datasets_path = \"/Users/31_grudnia/Desktop/Python/Playground/Masters_Degree_Project/backend/MNIST_app/MNIST_utils_files/signs_with_labels/\"\n",
    "\n",
    "# Train datasets\n",
    "X_train: np.ndarray = np.load(datasets_path + \"X_train.npy\")\n",
    "Y_train: np.ndarray = np.load(datasets_path + \"Y_train.npy\")"
   ]
  },
  {
   "cell_type": "code",
   "execution_count": 13,
   "id": "393733da",
   "metadata": {},
   "outputs": [],
   "source": [
    "# Test datasets\n",
    "X_test: np.ndarray = np.load(datasets_path + \"X_test.npy\")\n",
    "Y_test: np.ndarray = np.load(datasets_path + \"Y_test.npy\")"
   ]
  },
  {
   "cell_type": "code",
   "execution_count": 14,
   "id": "45e51f83",
   "metadata": {},
   "outputs": [],
   "source": [
    "# Validation datasets\n",
    "X_val: np.ndarray = np.load(datasets_path + \"X_val.npy\")\n",
    "Y_val: np.ndarray = np.load(datasets_path + \"Y_val.npy\")"
   ]
  },
  {
   "cell_type": "markdown",
   "id": "08248829",
   "metadata": {},
   "source": [
    "# One Hot Encoder"
   ]
  },
  {
   "cell_type": "code",
   "execution_count": 7,
   "id": "5ae605a8",
   "metadata": {},
   "outputs": [
    {
     "ename": "NameError",
     "evalue": "name 'Y_train' is not defined",
     "output_type": "error",
     "traceback": [
      "\u001b[0;31m---------------------------------------------------------------------------\u001b[0m",
      "\u001b[0;31mNameError\u001b[0m                                 Traceback (most recent call last)",
      "Cell \u001b[0;32mIn[7], line 21\u001b[0m\n\u001b[1;32m     10\u001b[0m         \u001b[38;5;28;01mpass\u001b[39;00m\n\u001b[1;32m     11\u001b[0m     \u001b[38;5;66;03m# for item in X_data:\u001b[39;00m\n\u001b[1;32m     12\u001b[0m     \u001b[38;5;66;03m#     row = [0] * len(categories)\u001b[39;00m\n\u001b[1;32m     13\u001b[0m         \n\u001b[0;32m   (...)\u001b[0m\n\u001b[1;32m     17\u001b[0m     \n\u001b[1;32m     18\u001b[0m     \u001b[38;5;66;03m# return one_hot_encoded_data, categories\u001b[39;00m\n\u001b[0;32m---> 21\u001b[0m Y_train_test \u001b[38;5;241m=\u001b[39m \u001b[43mY_train\u001b[49m\u001b[38;5;241m.\u001b[39mcopy()\n\u001b[1;32m     22\u001b[0m \u001b[38;5;66;03m# X_train_test = X_train.copy() \u001b[39;00m\n\u001b[1;32m     23\u001b[0m one_hot_encode(Y_data\u001b[38;5;241m=\u001b[39mY_train_test)\n",
      "\u001b[0;31mNameError\u001b[0m: name 'Y_train' is not defined"
     ]
    }
   ],
   "source": [
    "def one_hot_encode(Y_data: np.ndarray):\n",
    "    \n",
    "    categories: np.ndarray = sorted(list(set(Y_data)))\n",
    "    one_hot_encoded_data: np.ndarray = []\n",
    "    \n",
    "    row: np.ndarray = np.zeros(shape=(len(categories),), dtype=int)\n",
    "    print(row)\n",
    "    for index in range(len(Y_data)):\n",
    "        \n",
    "        pass\n",
    "    # for item in X_data:\n",
    "    #     row = [0] * len(categories)\n",
    "        \n",
    "    #     # Mark `1` for the corresponding category\n",
    "    #     row[categories.index(item)] = 1\n",
    "    #     one_hot_encoded_data.append(row)\n",
    "    \n",
    "    # return one_hot_encoded_data, categories\n",
    "\n",
    "\n",
    "Y_train_test = Y_train.copy()\n",
    "# X_train_test = X_train.copy() \n",
    "one_hot_encode(Y_data=Y_train_test)"
   ]
  },
  {
   "cell_type": "markdown",
   "id": "1d0b0b2d",
   "metadata": {},
   "source": [
    "# Tests"
   ]
  },
  {
   "cell_type": "code",
   "execution_count": 15,
   "id": "68ca728f",
   "metadata": {},
   "outputs": [
    {
     "name": "stdout",
     "output_type": "stream",
     "text": [
      "(446524, 32, 32) (446524,)\n"
     ]
    }
   ],
   "source": [
    "print(X_train.shape, Y_train.shape)"
   ]
  },
  {
   "cell_type": "code",
   "execution_count": 16,
   "id": "c61060b0-478a-496a-9bb7-6da28e21c4ad",
   "metadata": {},
   "outputs": [
    {
     "name": "stdout",
     "output_type": "stream",
     "text": [
      "(446524,)\n",
      "(446524, 32, 32)\n"
     ]
    },
    {
     "data": {
      "text/plain": [
       "<matplotlib.image.AxesImage at 0x109010610>"
      ]
     },
     "execution_count": 16,
     "metadata": {},
     "output_type": "execute_result"
    },
    {
     "data": {
      "image/png": "[encoded data removed]",
      "text/plain": [
       "<Figure size 640x480 with 1 Axes>"
      ]
     },
     "metadata": {},
     "output_type": "display_data"
    }
   ],
   "source": [
    "print(Y_train.shape)\n",
    "print(X_train.shape)\n",
    "index=7;\n",
    "plt.title((Y_train[index]))\n",
    "plt.imshow(X_train[index].reshape(32, 32), cmap=cm.binary)"
   ]
  },
  {
   "cell_type": "code",
   "execution_count": null,
   "id": "a6a5dee9-d6a4-4e98-bfdf-d8fbc63515b3",
   "metadata": {},
   "outputs": [],
   "source": []
  }
 ],
 "metadata": {
  "kernelspec": {
   "display_name": "Python 3 (ipykernel)",
   "language": "python",
   "name": "python3"
  },
  "language_info": {
   "codemirror_mode": {
    "name": "ipython",
    "version": 3
   },
   "file_extension": ".py",
   "mimetype": "text/x-python",
   "name": "python",
   "nbconvert_exporter": "python",
   "pygments_lexer": "ipython3",
   "version": "3.11.2"
  }
 },
 "nbformat": 4,
 "nbformat_minor": 5
}
